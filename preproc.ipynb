{
 "cells": [
  {
   "attachments": {},
   "cell_type": "markdown",
   "metadata": {},
   "source": [
    "# 解决手写数字识别的问题 - 数据处理"
   ]
  },
  {
   "attachments": {},
   "cell_type": "markdown",
   "metadata": {},
   "source": [
    "> #### ✔ 提前说明\n",
    ">\n",
    "> 为了将本文用于实训报告的书写，特将模块引入分散到了各代码块中，实际上这样做是坏文明\n",
    "\n",
    "本篇文章只是对于该问题的一个简单处理和对代码的基本解释，集合度更高的在另一篇[NoteBook](./train.ipynb)中。\n"
   ]
  },
  {
   "attachments": {},
   "cell_type": "markdown",
   "metadata": {},
   "source": [
    "## 1、数据的读取与处理"
   ]
  },
  {
   "cell_type": "code",
   "execution_count": 39,
   "metadata": {},
   "outputs": [],
   "source": [
    "import pandas as pd\n",
    "\n",
    "train_csv = pd.read_csv(\"./data/train.csv\")\n",
    "# 提取训练集\n",
    "train_label = train_csv['label']\n",
    "train_data = train_csv.drop(labels=[\"label\"], axis=1)\n",
    "# 归一化\n",
    "train_data = train_data/255\n",
    "# 图像重塑\n",
    "train_data = train_data.values.reshape(-1, 28, 28, 1)\n",
    "\n",
    "# 比赛数据集\n",
    "test_csv = pd.read_csv(\"./data/test.csv\")\n",
    "test_data = test_csv/255\n",
    "test_data = test_data.values.reshape(-1, 28, 28, 1)"
   ]
  },
  {
   "attachments": {},
   "cell_type": "markdown",
   "metadata": {},
   "source": [
    "## 2、展示图片"
   ]
  },
  {
   "cell_type": "code",
   "execution_count": 40,
   "metadata": {},
   "outputs": [
    {
     "data": {
      "text/plain": [
       "<matplotlib.image.AxesImage at 0x23f0274bf10>"
      ]
     },
     "execution_count": 40,
     "metadata": {},
     "output_type": "execute_result"
    },
    {
     "data": {
      "image/png": "[encoded data removed]",
      "text/plain": [
       "<Figure size 432x288 with 1 Axes>"
      ]
     },
     "metadata": {
      "needs_background": "light"
     },
     "output_type": "display_data"
    }
   ],
   "source": [
    "from matplotlib import pyplot as plt\n",
    "\n",
    "plt.imshow(train_data[114],cmap=\"gray\")"
   ]
  },
  {
   "attachments": {},
   "cell_type": "markdown",
   "metadata": {},
   "source": [
    "## 3、对数据进一步的处理"
   ]
  },
  {
   "cell_type": "code",
   "execution_count": 41,
   "metadata": {},
   "outputs": [
    {
     "name": "stdout",
     "output_type": "stream",
     "text": [
      "训练用数据集的大小：(42000, 28, 28, 1)\n",
      "待验证数据集的大小：(28000, 28, 28, 1)\n"
     ]
    }
   ],
   "source": [
    "print(\"训练用数据集的大小：{}\".format(train_data.shape))\n",
    "print(\"待验证数据集的大小：{}\".format(test_data.shape))"
   ]
  },
  {
   "cell_type": "code",
   "execution_count": 42,
   "metadata": {},
   "outputs": [
    {
     "name": "stderr",
     "output_type": "stream",
     "text": [
      "c:\\ProgramData\\Anaconda3\\lib\\site-packages\\seaborn\\_decorators.py:36: FutureWarning: Pass the following variable as a keyword arg: x. From version 0.12, the only valid positional argument will be `data`, and passing other arguments without an explicit keyword will result in an error or misinterpretation.\n",
      "  warnings.warn(\n"
     ]
    },
    {
     "data": {
      "text/plain": [
       "<AxesSubplot:xlabel='label', ylabel='count'>"
      ]
     },
     "execution_count": 42,
     "metadata": {},
     "output_type": "execute_result"
    },
    {
     "data": {
      "image/png": "[encoded data removed]",
      "text/plain": [
       "<Figure size 432x288 with 1 Axes>"
      ]
     },
     "metadata": {
      "needs_background": "light"
     },
     "output_type": "display_data"
    }
   ],
   "source": [
    "import seaborn as sns\n",
    "\n",
    "sns.countplot(train_label)"
   ]
  },
  {
   "cell_type": "code",
   "execution_count": 43,
   "metadata": {},
   "outputs": [
    {
     "name": "stdout",
     "output_type": "stream",
     "text": [
      "Train Data Describe\n",
      " count       785\n",
      "unique        1\n",
      "top       False\n",
      "freq        785\n",
      "dtype: object\n",
      "\n",
      "Test Data Describe\n",
      " count       784\n",
      "unique        1\n",
      "top       False\n",
      "freq        784\n",
      "dtype: object\n"
     ]
    }
   ],
   "source": [
    "print(\"Train Data Describe\\n\",train_csv.isnull().any().describe())\n",
    "print(\"\\nTest Data Describe\\n\",test_csv.isnull().any().describe())"
   ]
  },
  {
   "cell_type": "code",
   "execution_count": 44,
   "metadata": {},
   "outputs": [
    {
     "data": {
      "text/plain": [
       "tensor([[0, 1, 0,  ..., 0, 0, 0],\n",
       "        [1, 0, 0,  ..., 0, 0, 0],\n",
       "        [0, 1, 0,  ..., 0, 0, 0],\n",
       "        ...,\n",
       "        [0, 0, 0,  ..., 1, 0, 0],\n",
       "        [0, 0, 0,  ..., 0, 0, 0],\n",
       "        [0, 0, 0,  ..., 0, 0, 1]])"
      ]
     },
     "execution_count": 44,
     "metadata": {},
     "output_type": "execute_result"
    }
   ],
   "source": [
    "from torch import nn\n",
    "import torch\n",
    "\n",
    "train_target = nn.functional.one_hot(torch.tensor(train_label)) # 独热编码\n",
    "train_target"
   ]
  },
  {
   "attachments": {},
   "cell_type": "markdown",
   "metadata": {},
   "source": [
    "## 4、划分训练集和测试集"
   ]
  },
  {
   "cell_type": "code",
   "execution_count": 45,
   "metadata": {},
   "outputs": [],
   "source": [
    "from torch.utils.data import Dataset\n",
    "from torchvision import transforms\n",
    "\n",
    "class TrainDataset(Dataset):\n",
    "    # 创建训练数据集\n",
    "    def __init__(self, path: str, train: bool = True, transform=None) -> None:\n",
    "        data_csv = pd.read_csv(path)\n",
    "        self.transform = transform                     # 对于数据集输出统一执行的Transform指令\n",
    "        self.train = train                             # 判断当前是训练集和测试集的flag\n",
    "        self.label = data_csv['label']                 # 提取label\n",
    "        data = data_csv.drop(labels=[\"label\"], axis=1) # 提取训练集\n",
    "        data = data/255                                # 归一化\n",
    "        self.data = data.values.reshape(-1, 28, 28, 1) # 图像重塑\n",
    "        self.target = nn.functional.one_hot(torch.tensor(self.label))/1 # 目标值向量化(独热编码)\n",
    "        self.total = len(self.label) # 训练用数据集的总大小\n",
    "        self.cut = int(self.total/4) # 产生一个用于分割训练用数据集的指针\n",
    "        super().__init__()\n",
    "\n",
    "    def __len__(self) -> int:       # 重写了对于长度判断的逻辑\n",
    "        if not self.train:          # 当类处于测试集状态下输出测试集的长度\n",
    "            return self.cut\n",
    "        return self.total-self.cut  # 训练集状态下输出减去的长度\n",
    "\n",
    "    def __getitem__(self, index: int):\n",
    "        if not self.train:          # 测试集从后往前输出，训练集正常输出\n",
    "            index = self.total-index-1\n",
    "        image = self.data[index]\n",
    "        label = self.label[index]\n",
    "        target = self.target[index]\n",
    "        if self.transform:\n",
    "            image = self.transform(image)\n",
    "        return {'image': image,\n",
    "                'label': label,\n",
    "                'target': target}\n",
    "        \n",
    "example_dataset = TrainDataset(\n",
    "    path=\"./data/train.csv\",\n",
    "    train= True,\n",
    "    transform=transforms.Compose([\n",
    "            transforms.ToTensor(),\n",
    "            transforms.Resize((28, 28)),\n",
    "    ]))"
   ]
  },
  {
   "attachments": {},
   "cell_type": "markdown",
   "metadata": {},
   "source": [
    "## 5、数据加载器"
   ]
  },
  {
   "cell_type": "code",
   "execution_count": 46,
   "metadata": {},
   "outputs": [],
   "source": [
    "from torch.utils.data import DataLoader\n",
    "\n",
    "test_loader = DataLoader(\n",
    "    TrainDataset(\n",
    "        path=\"./data/train.csv\",\n",
    "        train=False,\n",
    "        transform=transforms.Compose([\n",
    "            transforms.ToTensor(),\n",
    "            transforms.Resize((28, 28)),\n",
    "        ]),\n",
    "    ),\n",
    "    batch_size=8*8,\n",
    "    shuffle=False,\n",
    "    num_workers=0,\n",
    "    drop_last=False\n",
    ")\n",
    "\n",
    "train_loader = DataLoader(\n",
    "    TrainDataset(\n",
    "        path=\"./data/train.csv\",\n",
    "        train=True,\n",
    "        transform=transforms.Compose([\n",
    "            transforms.ToTensor(),\n",
    "            transforms.Resize((28, 28)),\n",
    "        ]),\n",
    "    ),\n",
    "    batch_size=8*8,\n",
    "    shuffle=False,\n",
    "    num_workers=0,\n",
    "    drop_last=False\n",
    ")"
   ]
  },
  {
   "attachments": {},
   "cell_type": "markdown",
   "metadata": {},
   "source": [
    "## 6、创建模型"
   ]
  },
  {
   "cell_type": "code",
   "execution_count": 47,
   "metadata": {},
   "outputs": [],
   "source": [
    "class Model(nn.Module):\n",
    "    def __init__(self):\n",
    "        super().__init__()\n",
    "        self.model = nn.Sequential(\n",
    "            nn.Conv2d(1,32,5,padding=2),\n",
    "            nn.MaxPool2d(2),\n",
    "            nn.Dropout2d(0.25),\n",
    "            \n",
    "            nn.Conv2d(32,64,5,padding=2),\n",
    "            nn.MaxPool2d(2),\n",
    "            nn.Dropout2d(0.25),\n",
    "            \n",
    "            nn.Flatten(),\n",
    "            nn.Linear(7*7*64,1000),\n",
    "            nn.ReLU(),\n",
    "            nn.Linear(1000,10),\n",
    "            nn.Softmax(1),\n",
    "        )\n",
    "\n",
    "    def forward(self, x):\n",
    "        x=x.to(torch.float32)\n",
    "        x = self.model(x)\n",
    "        return x"
   ]
  },
  {
   "attachments": {},
   "cell_type": "markdown",
   "metadata": {},
   "source": [
    "## 7、损失函数与优化器"
   ]
  },
  {
   "cell_type": "code",
   "execution_count": 49,
   "metadata": {},
   "outputs": [],
   "source": [
    "from torch import optim\n",
    "\n",
    "# 参数设置\n",
    "learning_rate = 0.1             # 学习率\n",
    "module_file_name = \"./module-p.pth\" # 模型存储\n",
    "# GPU加速\n",
    "t_device = torch.device(\"cuda\" if torch.cuda.is_available() else \"cpu\")\n",
    "model = Model().to(t_device)\n",
    "# 损失函数\n",
    "loss = nn.CrossEntropyLoss().to(t_device)\n",
    "# 优化器\n",
    "opti = optim.SGD(model.parameters(), lr=learning_rate)\n",
    "# 尝试加载本地模型\n",
    "model.load_state_dict(torch.load(module_file_name))"
   ]
  },
  {
   "attachments": {},
   "cell_type": "markdown",
   "metadata": {},
   "source": [
    "## 8、模型训练和训练过程优化"
   ]
  },
  {
   "cell_type": "code",
   "execution_count": 50,
   "metadata": {},
   "outputs": [
    {
     "name": "stdout",
     "output_type": "stream",
     "text": [
      "||||||||||||||||||||||||||||||||||||||||||||||||||¦¦¦¦¦¦¦¦¦¦¦¦¦¦¦¦¦\n",
      "epoch: 1 loss(total,train):939.40 loss(total,test):271.57 accuacry(test):0.82\n",
      "||||||||||||||||||||||||||||||||||||||||||||||||||¦¦¦¦¦¦¦¦¦¦¦¦¦¦¦¦¦\n",
      "epoch: 2 loss(total,train):782.94 loss(total,test):252.17 accuacry(test):0.93\n",
      "||||||||||||||||||||||||||||||||||||||||||||||||||¦¦¦¦¦¦¦¦¦¦¦¦¦¦¦¦¦\n",
      "epoch: 3 loss(total,train):752.92 loss(total,test):253.23 accuacry(test):0.93\n",
      "||||||||||||||||||||||||||||||||||||||||||||||||||¦¦¦¦¦¦¦¦¦¦¦¦¦¦¦¦¦\n",
      "epoch: 4 loss(total,train):744.36 loss(total,test):248.68 accuacry(test):0.95\n",
      "||||||||||||||||||||||||||||||||||||||||||||||||||¦¦¦¦¦¦¦¦¦¦¦¦¦¦¦¦¦\n",
      "epoch: 5 loss(total,train):739.76 loss(total,test):246.87 accuacry(test):0.96\n",
      "||||||||||||||||||||||||||||||||||||||||||||||||||¦¦¦¦¦¦¦¦¦¦¦¦¦¦¦¦¦\n",
      "epoch: 6 loss(total,train):736.43 loss(total,test):250.89 accuacry(test):0.94\n",
      "||||||||||||||||||||||||||||||||||||||||||||||||||¦¦¦¦¦¦¦¦¦¦¦¦¦¦¦¦¦\n",
      "epoch: 7 loss(total,train):734.55 loss(total,test):245.05 accuacry(test):0.97\n",
      "||||||||||||||||||||||||||||||||||||||||||||||||||¦¦¦¦¦¦¦¦¦¦¦¦¦¦¦¦¦\n",
      "epoch: 8 loss(total,train):732.56 loss(total,test):245.72 accuacry(test):0.97\n",
      "||||||||||||||||||||||||||||||||||||||||||||||||||¦¦¦¦¦¦¦¦¦¦¦¦¦¦¦¦¦\n",
      "epoch: 9 loss(total,train):731.55 loss(total,test):244.75 accuacry(test):0.97\n",
      "||||||||||||||||||||||||||||||||||||||||||||||||||¦¦¦¦¦¦¦¦¦¦¦¦¦¦¦¦¦\n",
      "epoch: 10 loss(total,train):730.35 loss(total,test):244.67 accuacry(test):0.97\n"
     ]
    }
   ],
   "source": [
    "for epoch in range(10):\n",
    "    step = 0\n",
    "    step_test = 0\n",
    "    # 每一轮的统计数据\n",
    "    loss_epoch = 0.0\n",
    "    loss_epoch_test = 0.0\n",
    "    total_accuracy = 0.0\n",
    "    \n",
    "    # 训练中\n",
    "    model.train()\n",
    "    for i_batch,batch_data in enumerate(train_loader):\n",
    "        image = batch_data['image'].to(t_device)\n",
    "        target = batch_data['target'].to(t_device)\n",
    "        if step % 10 == 0:\n",
    "            print(\"|\", end=\"\")\n",
    "        opti.zero_grad() # 优化器置零\n",
    "        output = model(image)\n",
    "        result_loss = loss(output, target)\n",
    "        result_loss.backward()\n",
    "        opti.step()\n",
    "        loss_epoch += result_loss\n",
    "        step += 1\n",
    "        \n",
    "    # 模型验证过程\n",
    "    model.eval()\n",
    "    with torch.no_grad():\n",
    "        for i_batch,batch_data in enumerate(test_loader):\n",
    "            image = batch_data['image'].to(t_device)\n",
    "            target = batch_data['target'].to(t_device)\n",
    "            label = batch_data['label'].to(t_device)\n",
    "            if step_test % 10 == 0:\n",
    "                print(\"¦\", end=\"\")\n",
    "\n",
    "            output = model(image)\n",
    "            result_loss = loss(output, target)\n",
    "\n",
    "            accuracy = (output.argmax(1) == label).sum()\n",
    "            total_accuracy += accuracy\n",
    "            loss_epoch_test += result_loss\n",
    "            step_test += 1\n",
    "\n",
    "    print(\"\\nepoch:\", epoch+1, \"loss(total,train):%.2f\" % loss_epoch,\n",
    "          \"loss(total,test):%.2f\" % loss_epoch_test,\n",
    "          \"accuacry(test):%.2f\" % (total_accuracy/(len(test_loader)*64)))\n",
    "\n",
    "torch.save(model.state_dict(), module_file_name) # 存储训练的模型参数"
   ]
  },
  {
   "attachments": {},
   "cell_type": "markdown",
   "metadata": {},
   "source": [
    "## 9、提交文件"
   ]
  },
  {
   "cell_type": "code",
   "execution_count": null,
   "metadata": {},
   "outputs": [],
   "source": [
    "transform = transforms.Compose([\n",
    "    transforms.ToTensor(),\n",
    "    transforms.Resize((28, 28)),\n",
    "])\n",
    "\n",
    "idx = []\n",
    "ans = []\n",
    "\n",
    "for index, image in enumerate(test_data):\n",
    "    image = transform(image)\n",
    "    image = torch.reshape(image, (1, 1, 28, 28))\n",
    "    model.eval()\n",
    "    with torch.no_grad():\n",
    "        output = model(image)\n",
    "        target = int(output.argmax(1))\n",
    "        idx.append(index+1)\n",
    "        ans.append(target)\n",
    "        \n",
    "frame = pd.DataFrame({'ImageId':idx,'Label':ans})\n",
    "frame.to_csv(\"./submission.csv\",index=False,sep=',')"
   ]
  },
  {
   "attachments": {},
   "cell_type": "markdown",
   "metadata": {},
   "source": [
    "## 10、数据增强和模型优化"
   ]
  },
  {
   "attachments": {},
   "cell_type": "markdown",
   "metadata": {},
   "source": [
    "这部分我不是很有时间弄，距离提交仅剩半个小时，大概抄下思路\n",
    "\n",
    "已下代码均不可运行，我还没来得及整理和重写。"
   ]
  },
  {
   "cell_type": "code",
   "execution_count": null,
   "metadata": {},
   "outputs": [],
   "source": [
    "# 通过数据增强来防止过拟合\n",
    "datagen = ImageDataGenerator(\n",
    "        featurewise_center=False,  # 对输入的图片每个通道减去每个通道对应均值\n",
    "        samplewise_center=False,  # 每张图片减去样本均值, 使得每个样本均值为0\n",
    "        featurewise_std_normalization=False,  # 将输入除以数据集的标准差\n",
    "        samplewise_std_normalization=False,  # 将样本输入除以数据集的标准差\n",
    "        zca_whitening=False,  # 去除样本之间的相关性\n",
    "        rotation_range=10,  # 随机旋转图像（0到180度） \n",
    "        zoom_range = 0.1, # 随机缩放图像\n",
    "        width_shift_range=0.1,   # 水平随机移动图像（总宽度的一部分）\n",
    "        height_shift_range=0.1,  # 垂直随机移动图像（总高度的一部分）\n",
    "        horizontal_flip=False,  # 水平随机翻转图像\n",
    "        vertical_flip=False)  # 垂直随机翻转图像\n",
    "\n",
    "datagen.fit(X_train)"
   ]
  },
  {
   "cell_type": "code",
   "execution_count": null,
   "metadata": {},
   "outputs": [],
   "source": [
    "# 定义自己的混淆矩阵函数\n",
    "def plot_confusion_matrix(cm, classes, normalize=False, title='Confusion matrix', cmap=plt.cm.Blues):\n",
    "    \"\"\"\n",
    "    - cm : 计算出的混淆矩阵的值\n",
    "    - classes : 混淆矩阵中每一行每一列对应的列\n",
    "    - normalize : True:显示百分比, False:显示个数\n",
    "    \"\"\"\n",
    "    if normalize:\n",
    "        cm = cm.astype('float') / cm.sum(axis=1)[:, np.newaxis]\n",
    "\n",
    "    plt.imshow(cm, interpolation='nearest', cmap=cmap)\n",
    "    plt.title(title)\n",
    "    plt.colorbar()\n",
    "    tick_marks = np.arange(len(classes))\n",
    "    plt.xticks(tick_marks, classes)\n",
    "    plt.yticks(tick_marks, classes)\n",
    "\n",
    "    fmt = '.2f' if normalize else 'd'\n",
    "    thresh = cm.max() / 2.\n",
    "    for i, j in itertools.product(range(cm.shape[0]), range(cm.shape[1])):\n",
    "        plt.text(j, i, format(cm[i, j], fmt),\n",
    "                 horizontalalignment=\"center\",\n",
    "                 color=\"white\" if cm[i, j] > thresh else \"black\")\n",
    "    # plt.tight_layout()\n",
    "    plt.ylabel('True label')\n",
    "    plt.xlabel('Predicted label')"
   ]
  },
  {
   "cell_type": "code",
   "execution_count": null,
   "metadata": {},
   "outputs": [],
   "source": [
    "# 绘制混淆矩阵\n",
    "Y_pred = model.predict(X_val)    # 对验证数据集进行预测\n",
    "Y_pred_classes = np.argmax(Y_pred, axis=1)  # 将预测的类转换为一个热向量\n",
    "Y_true = np.argmax(Y_val, axis=1)  # 将验证集中实际观察到的类转换为一个热向量\n",
    "confusion_mtx = confusion_matrix(Y_true, Y_pred_classes)  # 计算混淆矩阵\n",
    "\n",
    "plt.figure(figsize=(16, 6))\n",
    "plt.subplot(121)\n",
    "plot_confusion_matrix(confusion_mtx, classes=range(10))\n",
    "plt.subplot(122)\n",
    "plot_confusion_matrix(confusion_mtx, classes=range(10), normalize=True)"
   ]
  }
 ],
 "metadata": {
  "kernelspec": {
   "display_name": "base",
   "language": "python",
   "name": "python3"
  },
  "language_info": {
   "codemirror_mode": {
    "name": "ipython",
    "version": 3
   },
   "file_extension": ".py",
   "mimetype": "text/x-python",
   "name": "python",
   "nbconvert_exporter": "python",
   "pygments_lexer": "ipython3",
   "version": "3.9.7"
  },
  "orig_nbformat": 4,
  "vscode": {
   "interpreter": {
    "hash": "ad2bdc8ecc057115af97d19610ffacc2b4e99fae6737bb82f5d7fb13d2f2c186"
   }
  }
 },
 "nbformat": 4,
 "nbformat_minor": 2
}
